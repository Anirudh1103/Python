{
 "cells": [
  {
   "cell_type": "code",
   "execution_count": 5,
   "id": "ac098604-71a4-4e3a-b9f7-105bbeb59a1a",
   "metadata": {},
   "outputs": [
    {
     "name": "stdout",
     "output_type": "stream",
     "text": [
      "0    0.492707\n",
      "1    0.894505\n",
      "2    0.071752\n",
      "3    0.950865\n",
      "4    0.432433\n",
      "5    0.972853\n",
      "6    0.797409\n",
      "7    0.729623\n",
      "8    0.438729\n",
      "9    0.580188\n",
      "dtype: float64\n"
     ]
    }
   ],
   "source": [
    "#Pandas has two types of Data structures \n",
    "\"\"\"\n",
    " * Series :- It is a one-dimensional array with indexes , it stores a single column or row of dataframe\n",
    " * DataFrame :- It is a tabular spreadsheet like structure representing rows eachof which contains one or multiple columns\n",
    "\"\"\"\n",
    "\n",
    "#Series in Pandas\n",
    "import numpy as np\n",
    "import pandas as pd\n",
    "\n",
    "#Will store 10 random numbers in ser variable\n",
    "ser = pd.Series(np.random.rand(10))\n",
    "print(ser)"
   ]
  },
  {
   "cell_type": "code",
   "execution_count": 13,
   "id": "77dbda4d-b6da-4dda-a663-cf3de1a3f3ce",
   "metadata": {},
   "outputs": [
    {
     "name": "stdout",
     "output_type": "stream",
     "text": [
      "   X  Y  Z\n",
      "0  1  9  5\n",
      "1  2  8  6\n",
      "2  3  7  7\n",
      "3  4  5  8\n",
      "4  5  4  9\n"
     ]
    }
   ],
   "source": [
    "#Write a program to create a Dataframe  and print array values in form of matrix\n",
    "print(pd.DataFrame({'X' : [1,2,3,4,5],\n",
    "                  'Y' : [9,8,7,5,4],\n",
    "                  'Z' : [5,6,7,8,9]}))"
   ]
  },
  {
   "cell_type": "code",
   "execution_count": 20,
   "id": "6ca9c2b0-287c-410e-9946-3e7eb341c405",
   "metadata": {},
   "outputs": [
    {
     "name": "stdout",
     "output_type": "stream",
     "text": [
      "       name  Age\n",
      "a    Ramesh   54\n",
      "b    Suresh   63\n",
      "c    Ganesh   20\n",
      "d  Dharmesh    5\n"
     ]
    }
   ],
   "source": [
    "#Write a Pandas program to create and display a DataFrame from a specified dictonary data which has the index labels\n",
    "\n",
    "#lets create a dictonary first\n",
    "exam_data = { 'name' : ['Ramesh','Suresh','Ganesh','Dharmesh'],\n",
    "             'Age' : [54,63,20,5]}\n",
    "#Storing index values in a variable name: labels\n",
    "labels = ['a','b','c','d']\n",
    "df = pd.DataFrame(exam_data,index=labels)\n",
    "print(df)"
   ]
  },
  {
   "cell_type": "code",
   "execution_count": 24,
   "id": "c6cc3352-4780-438f-ac13-4310b322bf5e",
   "metadata": {},
   "outputs": [
    {
     "name": "stdout",
     "output_type": "stream",
     "text": [
      "     name  Age\n",
      "a  Ramesh   54\n",
      "b  Suresh   63\n",
      "c  Ganesh   20\n",
      "     name  Age\n",
      "a  Ramesh   54\n",
      "b  Suresh   63\n",
      "c  Ganesh   20\n"
     ]
    }
   ],
   "source": [
    "#Write a Pandas program tp get the first 3 rows of a given data frame\n",
    "#We can write the program in two methods\n",
    "#Method 1: iloc[] \n",
    "print(df.iloc[:3])\n",
    "#we are slicing the first 3 rows of the table\n",
    "#Method 2: head()\n",
    "print(df.head(3))\n",
    "\n",
    "#Both the programs will print same output"
   ]
  },
  {
   "cell_type": "code",
   "execution_count": null,
   "id": "78d672df-6746-484e-ba57-1236549b6876",
   "metadata": {},
   "outputs": [],
   "source": []
  }
 ],
 "metadata": {
  "kernelspec": {
   "display_name": "Python 3 (ipykernel)",
   "language": "python",
   "name": "python3"
  },
  "language_info": {
   "codemirror_mode": {
    "name": "ipython",
    "version": 3
   },
   "file_extension": ".py",
   "mimetype": "text/x-python",
   "name": "python",
   "nbconvert_exporter": "python",
   "pygments_lexer": "ipython3",
   "version": "3.11.1"
  }
 },
 "nbformat": 4,
 "nbformat_minor": 5
}
