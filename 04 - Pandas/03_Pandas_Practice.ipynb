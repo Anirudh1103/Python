{
 "cells": [
  {
   "cell_type": "code",
   "execution_count": 1,
   "id": "a5488352-76b4-4ddf-9dab-81732a9d173d",
   "metadata": {},
   "outputs": [],
   "source": [
    "#In this file I will declare the required varibales in first section and I will be using the same variables in different sections.\n",
    "\n",
    "import pandas as pd\n",
    "import numpy as np\n",
    "\n",
    "exam_data = {'name': ['Anastasia', 'Dima', 'Katherine', 'James', 'Emily', 'Michael',\n",
    "'Matthew', 'Laura', 'Kevin', 'Jonas'],\n",
    " 'score': [12.5, 9, 16.5, np.nan, 9, 20, 14.5, np.nan, 8, 19],\n",
    " 'attempts': [1, 3, 2, 3, 2, 3, 1, 1, 2, 1],\n",
    " 'qualify': ['yes', 'no', 'yes', 'no', 'no', 'yes', 'yes', 'no', 'no', 'yes']}\n",
    "labels = ['a', 'b', 'c', 'd', 'e', 'f', 'g', 'h', 'i', 'j']"
   ]
  },
  {
   "cell_type": "code",
   "execution_count": 6,
   "id": "92342932-fa9b-4ad4-97ea-dcdc76fef835",
   "metadata": {},
   "outputs": [
    {
     "name": "stdout",
     "output_type": "stream",
     "text": [
      "        name  score  attempts qualify\n",
      "a  Anastasia   12.5         1     yes\n",
      "b       Dima    9.0         3      no\n",
      "c  Katherine   16.5         2     yes\n",
      "d      James    NaN         3      no\n",
      "e      Emily    9.0         2      no\n",
      "f    Michael   20.0         3     yes\n",
      "g    Matthew   14.5         1     yes\n",
      "h      Laura    NaN         1      no\n",
      "i      Kevin    8.0         2      no\n",
      "j      Jonas   19.0         1     yes\n"
     ]
    }
   ],
   "source": [
    "#Write a Pandas program to create and display a DataFrame from a specified dictonary data which has the index labels.\n",
    "df = pd.DataFrame(exam_data,index=labels)\n",
    "print(df)"
   ]
  },
  {
   "cell_type": "code",
   "execution_count": 10,
   "id": "ab6d9b04-17eb-46b3-9fc8-fce45a66e846",
   "metadata": {},
   "outputs": [
    {
     "name": "stdout",
     "output_type": "stream",
     "text": [
      "        name  score  attempts qualify\n",
      "a  Anastasia   12.5         1     yes\n",
      "b       Dima    9.0         3      no\n",
      "c  Katherine   16.5         2     yes\n"
     ]
    }
   ],
   "source": [
    "#Write a Pandas program to fetch the first 3 rows of a given DataFrame\n",
    "#We can fetch data in 2 different Methods\n",
    "\n",
    "#Method 1: using iloc\n",
    "print(df.iloc[:3])"
   ]
  },
  {
   "cell_type": "code",
   "execution_count": 12,
   "id": "188ffc08-a29b-471e-a612-527bf5e74b6c",
   "metadata": {},
   "outputs": [
    {
     "name": "stdout",
     "output_type": "stream",
     "text": [
      "        name  score  attempts qualify\n",
      "a  Anastasia   12.5         1     yes\n",
      "b       Dima    9.0         3      no\n",
      "c  Katherine   16.5         2     yes\n"
     ]
    }
   ],
   "source": [
    "#Method 2: using head()\n",
    "print(df.head(3))"
   ]
  },
  {
   "cell_type": "code",
   "execution_count": 27,
   "id": "428e6ccc-ab2f-4b7d-82bd-ace4fa6fa0ed",
   "metadata": {},
   "outputs": [
    {
     "name": "stdout",
     "output_type": "stream",
     "text": [
      "Printing only name and score columns.\n",
      "        name  score\n",
      "a  Anastasia   12.5\n",
      "b       Dima    9.0\n",
      "c  Katherine   16.5\n",
      "d      James    NaN\n",
      "e      Emily    9.0\n",
      "f    Michael   20.0\n",
      "g    Matthew   14.5\n",
      "h      Laura    NaN\n",
      "i      Kevin    8.0\n",
      "j      Jonas   19.0\n"
     ]
    }
   ],
   "source": [
    "#Write a pandas program to select the 'name' and 'score' columns from the following DataFrame.\n",
    "print(\"Printing only name and score columns.\")\n",
    "print(df[['name','score',]])"
   ]
  },
  {
   "cell_type": "code",
   "execution_count": 28,
   "id": "e5aae8b6-d36f-461b-9d12-68c4c65b44df",
   "metadata": {},
   "outputs": [
    {
     "name": "stdout",
     "output_type": "stream",
     "text": [
      "Printing the rows where attempts are greater than 2\n",
      "      name  score  attempts qualify\n",
      "b     Dima    9.0         3      no\n",
      "d    James    NaN         3      no\n",
      "f  Michael   20.0         3     yes\n"
     ]
    }
   ],
   "source": [
    "#Write a Pandas program to select the rows where the number of attempts in the examination is greater than 2.\n",
    "print(\"Printing the rows where attempts are greater than 2\")\n",
    "print(df[df['attempts']>2])"
   ]
  },
  {
   "cell_type": "code",
   "execution_count": 29,
   "id": "41ca5280-c1eb-4280-9842-39abdd54d4bb",
   "metadata": {},
   "outputs": [
    {
     "name": "stdout",
     "output_type": "stream",
     "text": [
      "Printing the rows where score is between 15 and 20\n",
      "        name  score  attempts qualify\n",
      "c  Katherine   16.5         2     yes\n",
      "f    Michael   20.0         3     yes\n",
      "j      Jonas   19.0         1     yes\n"
     ]
    }
   ],
   "source": [
    "#Write a Pandas program to select the rows where the score is between 15 and 20\n",
    "print(\"Printing the rows where score is between 15 and 20\")\n",
    "print(df[df['score'].between(15,20)])"
   ]
  },
  {
   "cell_type": "code",
   "execution_count": 34,
   "id": "992f05b9-caf1-4fbc-be3e-cf9e54bd337a",
   "metadata": {},
   "outputs": [
    {
     "name": "stdout",
     "output_type": "stream",
     "text": [
      "Printing the sum of attempts column in the table.\n",
      "19\n"
     ]
    }
   ],
   "source": [
    "#Write a Pandas program to calculate the sum of the examination attemps by the students.\n",
    "print(\"Printing the sum of attempts column in the table.\")\n",
    "print(df['attempts'].sum())"
   ]
  },
  {
   "cell_type": "code",
   "execution_count": 36,
   "id": "8d3d2b6a-f17c-40a1-b3bf-077624a58c7b",
   "metadata": {},
   "outputs": [
    {
     "name": "stdout",
     "output_type": "stream",
     "text": [
      "Printing the mean score of the DataFrame...\n",
      "13.5625\n"
     ]
    }
   ],
   "source": [
    "#Write a Pandas program to calculate the mean score of the DataFrame.\n",
    "print(\"Printing the mean score of the DataFrame...\")\n",
    "print(df['score'].mean())"
   ]
  },
  {
   "cell_type": "code",
   "execution_count": 42,
   "id": "c562e52c-859a-47e0-b132-1ecf887a10df",
   "metadata": {},
   "outputs": [
    {
     "name": "stdout",
     "output_type": "stream",
     "text": [
      "Table sorted based on names in descending order: \n",
      "        name  score  attempts qualify\n",
      "f    Michael   20.0         3     yes\n",
      "g    Matthew   14.5         1     yes\n",
      "h      Laura    NaN         1      no\n",
      "i      Kevin    8.0         2      no\n",
      "c  Katherine   16.5         2     yes\n",
      "j      Jonas   19.0         1     yes\n",
      "d      James    NaN         3      no\n",
      "e      Emily    9.0         2      no\n",
      "b       Dima    9.0         3      no\n",
      "a  Anastasia   12.5         1     yes\n",
      "Table sorted based on score in ascending order: \n",
      "        name  score  attempts qualify\n",
      "i      Kevin    8.0         2      no\n",
      "b       Dima    9.0         3      no\n",
      "e      Emily    9.0         2      no\n",
      "a  Anastasia   12.5         1     yes\n",
      "g    Matthew   14.5         1     yes\n",
      "c  Katherine   16.5         2     yes\n",
      "j      Jonas   19.0         1     yes\n",
      "f    Michael   20.0         3     yes\n",
      "d      James    NaN         3      no\n",
      "h      Laura    NaN         1      no\n"
     ]
    }
   ],
   "source": [
    "#Write a Pandas program to sort the DataFrame first by 'name' in descending order then by 'score' in ascending order\n",
    "sorting_name = df.sort_values(by = ['name'], ascending = [False])\n",
    "sorting_score = df.sort_values(by = ['score'], ascending = True)\n",
    "print(\"Table sorted based on names in descending order: \")\n",
    "print(sorting_name)\n",
    "print(\"Table sorted based on score in ascending order: \")\n",
    "print(sorting_score)"
   ]
  },
  {
   "cell_type": "code",
   "execution_count": 43,
   "id": "4942fad1-b629-4973-b2a6-ea3aed575491",
   "metadata": {},
   "outputs": [
    {
     "name": "stdout",
     "output_type": "stream",
     "text": [
      "        name  score  attempts qualify\n",
      "a  Anastasia   12.5         1     yes\n",
      "b       Dima    9.0         3      no\n",
      "c  Katherine   16.5         2     yes\n",
      "d     Suresh    NaN         3      no\n",
      "e      Emily    9.0         2      no\n",
      "f    Michael   20.0         3     yes\n",
      "g    Matthew   14.5         1     yes\n",
      "h      Laura    NaN         1      no\n",
      "i      Kevin    8.0         2      no\n",
      "j      Jonas   19.0         1     yes\n"
     ]
    }
   ],
   "source": [
    "#Write a Pandas program to change the name 'James' to 'Suresh' in name column of the DataFrame.\n",
    "df['name'] = df['name'].replace('James','Suresh')\n",
    "print(df)"
   ]
  },
  {
   "cell_type": "code",
   "execution_count": null,
   "id": "cd31d05e-fa11-42f9-9f91-b6158240a558",
   "metadata": {},
   "outputs": [],
   "source": []
  }
 ],
 "metadata": {
  "kernelspec": {
   "display_name": "Python 3 (ipykernel)",
   "language": "python",
   "name": "python3"
  },
  "language_info": {
   "codemirror_mode": {
    "name": "ipython",
    "version": 3
   },
   "file_extension": ".py",
   "mimetype": "text/x-python",
   "name": "python",
   "nbconvert_exporter": "python",
   "pygments_lexer": "ipython3",
   "version": "3.11.1"
  }
 },
 "nbformat": 4,
 "nbformat_minor": 5
}
