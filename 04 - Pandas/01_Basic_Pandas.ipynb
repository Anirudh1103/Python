{
 "cells": [
  {
   "cell_type": "code",
   "execution_count": 6,
   "id": "46336200-5b2f-4172-9599-c80940468aac",
   "metadata": {},
   "outputs": [
    {
     "name": "stdout",
     "output_type": "stream",
     "text": [
      "       Name  Roll_no  Class Section  Marks\n",
      "0     Akash        5      3       A     43\n",
      "1   Anirudh        6      3       A     44\n",
      "2  Chaithra       16      3       A     45\n",
      "3   Chandan       18      3       A     46\n",
      "4  Chandana       19      3       A     47\n",
      "5   Chintan       20      3       A     49\n"
     ]
    }
   ],
   "source": [
    "#Pandas is a fast, powerful, flexible and easy to use open source data analysis and manipulation tool.(Written in python)\n",
    "#Pandas is widely used in Data Science, Data Analysis, Machine Learning and many more fields\n",
    "#Program to read a csv file using pandas\n",
    "\n",
    "import pandas as pd\n",
    "data = pd.read_csv('student_data.csv')\n",
    "#The contents of the file: student_data.csv will be stored in df (DataFrame)\n",
    "print(data)"
   ]
  },
  {
   "cell_type": "code",
   "execution_count": 8,
   "id": "4f70036c-42ff-4089-9c55-58c451b142f4",
   "metadata": {},
   "outputs": [
    {
     "name": "stdout",
     "output_type": "stream",
     "text": [
      "       Name  Marks        City\n",
      "0     Akash     43      Tumkur\n",
      "1   Anirudh     44    Banglore\n",
      "2  Chaithra     45  Madhughiri\n",
      "3   Chandan     46      Tumkur\n",
      "4  Chandana     47      Mandya\n",
      "5   Chintan     49      Mysore\n"
     ]
    }
   ],
   "source": [
    "dict1 = { \"Name\" : [\"Akash\",\"Anirudh\",\"Chaithra\",\"Chandan\",\"Chandana\",\"Chintan\"],\n",
    "         \"Marks\" : [43,44,45,46,47,49],\n",
    "         \"City\" : [\"Tumkur\",\"Banglore\",\"Madhughiri\",\"Tumkur\",\"Mandya\",\"Mysore\"]\n",
    "}\n",
    "df = pd.DataFrame(dict1)\n",
    "print(df)"
   ]
  },
  {
   "cell_type": "code",
   "execution_count": 14,
   "id": "6b36dfcb-d63a-403b-a66d-912e9837be89",
   "metadata": {},
   "outputs": [],
   "source": [
    "#We can export the above table into a csv file using the function: to_csv(file_name)\n",
    "df.to_csv('exported_data.csv',index = False)\n",
    "#index = False  will not add any indexing into the csv file but the csv reader may display the indexing\n",
    "#We can even use index = [] which is as same as index = False\n",
    "#We can even add our own indexing to the file by passing the index values to the index attribute"
   ]
  },
  {
   "cell_type": "code",
   "execution_count": 17,
   "id": "fdd8be7d-1610-4097-afcb-b36355952a1b",
   "metadata": {},
   "outputs": [
    {
     "name": "stdout",
     "output_type": "stream",
     "text": [
      "       Name  Marks        City\n",
      "0     Akash     43      Tumkur\n",
      "1   Anirudh     44    Banglore\n",
      "2  Chaithra     45  Madhughiri\n"
     ]
    }
   ],
   "source": [
    "#To read only starting few specific rows we can use head() function\n",
    "print(df.head(3))\n",
    "#if we dont pass any specific number in head() function by default it will print first 5 rows\n",
    "#If we pass a specific number within the head() function it will print the rows from starting until the specified number\n"
   ]
  },
  {
   "cell_type": "code",
   "execution_count": 18,
   "id": "49207037-a490-40b8-b839-f30b1a0331d8",
   "metadata": {},
   "outputs": [
    {
     "name": "stdout",
     "output_type": "stream",
     "text": [
      "       Name  Marks    City\n",
      "3   Chandan     46  Tumkur\n",
      "4  Chandana     47  Mandya\n",
      "5   Chintan     49  Mysore\n"
     ]
    }
   ],
   "source": [
    "#To read only last few specific rows we can use tail() function.\n",
    "print(df.tail(3))\n",
    "#if we dont pass any specific number in tail() function by default it will print last 5 rows\n",
    "#If we pass a specific number within the tail() function it will print the rows from the bottom row until the specified number."
   ]
  },
  {
   "cell_type": "code",
   "execution_count": 19,
   "id": "23042113-97a3-4727-986e-9ac0b7cfa2a9",
   "metadata": {},
   "outputs": [
    {
     "name": "stdout",
     "output_type": "stream",
     "text": [
      "           Marks\n",
      "count   6.000000\n",
      "mean   45.666667\n",
      "std     2.160247\n",
      "min    43.000000\n",
      "25%    44.250000\n",
      "50%    45.500000\n",
      "75%    46.750000\n",
      "max    49.000000\n"
     ]
    }
   ],
   "source": [
    "# we can do statistical analysis on numerical rows of our table using describe() function.\n",
    "print(df.describe())"
   ]
  },
  {
   "cell_type": "code",
   "execution_count": 20,
   "id": "1fe6da11-8513-4c87-8edf-a1c2de576c1e",
   "metadata": {},
   "outputs": [
    {
     "name": "stdout",
     "output_type": "stream",
     "text": [
      "   Train_NO S_Station E_Station  Spped\n",
      "0     12323  Banglore   Chennai     80\n",
      "1     15234    Tumkur  Banglore     60\n",
      "2     14789    Mysore   Madurai    120\n",
      "3     32145    Mandya     Koorg    100\n",
      "4     65894     Kukke  Banglore    120\n",
      "5     51684   Chennai    Mumbai    150\n",
      "6     65956  Banglore   Ayodhya    180\n",
      "7     46849   Ayodhya   Varansi     60\n"
     ]
    }
   ],
   "source": [
    "#Lets read the data from a csv file: Train_data.csv\n",
    "Train = pd.read_csv('Train_data.csv')\n",
    "print(Train)"
   ]
  },
  {
   "cell_type": "code",
   "execution_count": 25,
   "id": "3ec4eb27-6563-4871-879f-fafe0ca7039a",
   "metadata": {},
   "outputs": [
    {
     "name": "stdout",
     "output_type": "stream",
     "text": [
      "0    12323\n",
      "1    15234\n",
      "2    14789\n",
      "3    32145\n",
      "4    65894\n",
      "5    51684\n",
      "6    65956\n",
      "7    46849\n",
      "Name: Train_NO, dtype: int64\n"
     ]
    }
   ],
   "source": [
    "#Lets say we only want to see a specific column from the above table\n",
    "print(Train['Train_NO'])"
   ]
  },
  {
   "cell_type": "code",
   "execution_count": null,
   "id": "aa87101d-3e59-4f83-a98e-8f811b2d10fe",
   "metadata": {},
   "outputs": [],
   "source": []
  }
 ],
 "metadata": {
  "kernelspec": {
   "display_name": "Python 3 (ipykernel)",
   "language": "python",
   "name": "python3"
  },
  "language_info": {
   "codemirror_mode": {
    "name": "ipython",
    "version": 3
   },
   "file_extension": ".py",
   "mimetype": "text/x-python",
   "name": "python",
   "nbconvert_exporter": "python",
   "pygments_lexer": "ipython3",
   "version": "3.11.1"
  }
 },
 "nbformat": 4,
 "nbformat_minor": 5
}
